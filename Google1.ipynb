{
 "cells": [
  {
   "cell_type": "code",
   "execution_count": null,
   "id": "f2a30019-7362-473f-83fa-594f9789b190",
   "metadata": {},
   "outputs": [],
   "source": [
    "from typing import List\n",
    "from collections import Counter\n",
    "import heapq\n",
    "from timeit import default_timer as timer"
   ]
  },
  {
   "cell_type": "code",
   "execution_count": null,
   "id": "1db34172-e3ae-4225-bf57-bc339874cc6a",
   "metadata": {},
   "outputs": [],
   "source": [
    "def solution(data, n):\n",
    "    cnt = Counter(data)\n",
    "    bad = set([k for k in cnt if cnt[k]>n])\n",
    "    sol = []\n",
    "    for d in data:\n",
    "        if d not in bad:\n",
    "            sol.append(d)\n",
    "    return sol\n",
    "\n",
    "# Elapsed time: 100000:2.023117799999966"
   ]
  },
  {
   "cell_type": "code",
   "execution_count": null,
   "id": "6a525fd3-7a90-42c3-a469-3176c8c06207",
   "metadata": {},
   "outputs": [],
   "source": [
    "def solution(data, n):\n",
    "    cnt = Counter(data)\n",
    "    bad = set([k for k in cnt if cnt[k]>n])\n",
    "    i = 0\n",
    "    while i<len(data):\n",
    "        if data[i] in bad:\n",
    "            data.pop(i)\n",
    "        else:\n",
    "            i+=1\n",
    "\n",
    "    return data\n",
    "# Elapsed time: 100000:1.5956745999999384"
   ]
  },
  {
   "cell_type": "code",
   "execution_count": null,
   "id": "442d1959-7efd-45f3-8915-0fdae65b9525",
   "metadata": {},
   "outputs": [],
   "source": [
    "def solution(data, n):\n",
    "    from collections import Counter\n",
    "    \n",
    "    cnt = Counter(data)\n",
    "    bad = set([k for k in cnt if cnt[k]>n])\n",
    "    i = len(data)-1\n",
    "    while i>-1:\n",
    "        if data[i] in bad:\n",
    "            data.pop(i)\n",
    "        i-=1\n",
    "    return data\n",
    "# Elapsed time: 100000:1.938891099999978"
   ]
  },
  {
   "cell_type": "code",
   "execution_count": null,
   "id": "566770e3-6ccb-47ac-9e3d-85745aa3f655",
   "metadata": {},
   "outputs": [],
   "source": [
    "test_data = [\n",
    "    [ \n",
    "        \"google case 1\",\n",
    "        [1, 2, 3], \n",
    "        0, \n",
    "        [],\n",
    "    ],\n",
    "    [ \n",
    "        \"google case 2\",\n",
    "        [1, 2, 2, 3, 3, 3, 4, 5, 5], \n",
    "        1, \n",
    "        [1, 4],\n",
    "    ],\n",
    "    [ \n",
    "        \"my case 1.1\",\n",
    "        [1, 2, 3, 4, 5, 6, 7, 8, 9, 10, 1], \n",
    "        0, \n",
    "        [],\n",
    "    ],\n",
    "    [ \n",
    "        \"my case 1.2\",\n",
    "        [], \n",
    "        0, \n",
    "        [],\n",
    "    ],\n",
    "    [ \n",
    "        \"my case 2.1\",\n",
    "        [1, 1, 2, 2, 3, 3, 3, 4, 5, 5], \n",
    "        1, \n",
    "        [4],\n",
    "    ],\n",
    "    [ \n",
    "        \"my case 2.2\",\n",
    "        [1, 1, 2, 2, 3, 3, 3, 4, 5, 5], \n",
    "        2, \n",
    "        [1, 1, 2, 2, 4, 5, 5],\n",
    "    ],\n",
    "    [ \n",
    "        \"my case 2.3\",\n",
    "        [1, 1, 1, 1, 1, 1, 1, 2, 2, 2, 2, 1, 2, 1, 2, 3, 3, 3, 4, ], \n",
    "        2, \n",
    "        [4],\n",
    "    ],\n",
    "]"
   ]
  },
  {
   "cell_type": "code",
   "execution_count": null,
   "id": "57026858-881e-41f6-92e5-e5d3849a1273",
   "metadata": {},
   "outputs": [],
   "source": [
    "for title, data, n, output in test_data:\n",
    "    sol = solution(data, n)\n",
    "    \n",
    "    print(title)\n",
    "    print(output)\n",
    "    print(sol)"
   ]
  },
  {
   "cell_type": "code",
   "execution_count": null,
   "id": "93513fe8-652a-465d-92fc-7f7ce861b7ea",
   "metadata": {},
   "outputs": [],
   "source": [
    "start = timer()\n",
    "\n",
    "i = 0\n",
    "while i<100000:\n",
    "    for _, data, n, output in test_data:\n",
    "        sol = solution(data, n)\n",
    "    i+=1\n",
    "    \n",
    "end = timer()\n",
    "\n",
    "print(f\"# Elapsed time: {i}:{end-start}\")"
   ]
  },
  {
   "cell_type": "code",
   "execution_count": null,
   "id": "142348ba-fd2e-4e29-b631-1a9e50ebd3fa",
   "metadata": {},
   "outputs": [],
   "source": []
  }
 ],
 "metadata": {
  "kernelspec": {
   "display_name": "Python 3 (ipykernel)",
   "language": "python",
   "name": "python3"
  },
  "language_info": {
   "codemirror_mode": {
    "name": "ipython",
    "version": 3
   },
   "file_extension": ".py",
   "mimetype": "text/x-python",
   "name": "python",
   "nbconvert_exporter": "python",
   "pygments_lexer": "ipython3",
   "version": "3.8.16"
  }
 },
 "nbformat": 4,
 "nbformat_minor": 5
}
